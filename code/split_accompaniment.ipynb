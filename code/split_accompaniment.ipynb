{
 "cells": [
  {
   "cell_type": "code",
   "execution_count": 8,
   "id": "polish-silly",
   "metadata": {},
   "outputs": [
    {
     "name": "stderr",
     "output_type": "stream",
     "text": [
      "'apt' 不是内部或外部命令，也不是可运行的程序\n",
      "或批处理文件。\n"
     ]
    }
   ],
   "source": [
    "!apt install ffmpeg"
   ]
  },
  {
   "cell_type": "code",
   "execution_count": 9,
   "id": "continuing-scott",
   "metadata": {},
   "outputs": [
    {
     "name": "stdout",
     "output_type": "stream",
     "text": [
      "Requirement already satisfied: spleeter in c:\\users\\方堃\\appdata\\local\\programs\\python\\python39\\lib\\site-packages (2.3.0)Note: you may need to restart the kernel to use updated packages.\n"
     ]
    },
    {
     "name": "stderr",
     "output_type": "stream",
     "text": [
      "WARNING: You are using pip version 20.2.3; however, version 22.0.4 is available.\n",
      "You should consider upgrading via the 'C:\\Users\\方堃\\AppData\\Local\\Programs\\Python\\Python39\\python.exe -m pip install --upgrade pip' command.\n"
     ]
    },
    {
     "name": "stdout",
     "output_type": "stream",
     "text": [
      "\n",
      "Requirement already satisfied: tensorflow==2.5.0 in c:\\users\\方堃\\appdata\\local\\programs\\python\\python39\\lib\\site-packages (from spleeter) (2.5.0)\n",
      "Requirement already satisfied: typer<0.4.0,>=0.3.2 in c:\\users\\方堃\\appdata\\local\\programs\\python\\python39\\lib\\site-packages (from spleeter) (0.3.2)\n",
      "Requirement already satisfied: numpy<1.20.0,>=1.16.0 in c:\\users\\方堃\\appdata\\local\\programs\\python\\python39\\lib\\site-packages (from spleeter) (1.19.5)\n",
      "Requirement already satisfied: ffmpeg-python==0.2.0 in c:\\users\\方堃\\appdata\\local\\programs\\python\\python39\\lib\\site-packages (from spleeter) (0.2.0)\n",
      "Requirement already satisfied: httpx[http2]<0.20.0,>=0.19.0 in c:\\users\\方堃\\appdata\\local\\programs\\python\\python39\\lib\\site-packages (from spleeter) (0.19.0)\n",
      "Requirement already satisfied: llvmlite<0.37.0,>=0.36.0 in c:\\users\\方堃\\appdata\\local\\programs\\python\\python39\\lib\\site-packages (from spleeter) (0.36.0)\n",
      "Requirement already satisfied: pandas<2.0.0,>=1.1.2 in c:\\users\\方堃\\appdata\\local\\programs\\python\\python39\\lib\\site-packages (from spleeter) (1.3.4)\n",
      "Requirement already satisfied: norbert==0.2.1 in c:\\users\\方堃\\appdata\\local\\programs\\python\\python39\\lib\\site-packages (from spleeter) (0.2.1)\n",
      "Requirement already satisfied: librosa==0.8.0 in c:\\users\\方堃\\appdata\\local\\programs\\python\\python39\\lib\\site-packages (from spleeter) (0.8.0)\n",
      "Requirement already satisfied: h5py~=3.1.0 in c:\\users\\方堃\\appdata\\local\\programs\\python\\python39\\lib\\site-packages (from tensorflow==2.5.0->spleeter) (3.1.0)\n",
      "Requirement already satisfied: tensorboard~=2.5 in c:\\users\\方堃\\appdata\\local\\programs\\python\\python39\\lib\\site-packages (from tensorflow==2.5.0->spleeter) (2.7.0)\n",
      "Requirement already satisfied: astunparse~=1.6.3 in c:\\users\\方堃\\appdata\\local\\programs\\python\\python39\\lib\\site-packages (from tensorflow==2.5.0->spleeter) (1.6.3)\n",
      "Requirement already satisfied: wheel~=0.35 in c:\\users\\方堃\\appdata\\local\\programs\\python\\python39\\lib\\site-packages (from tensorflow==2.5.0->spleeter) (0.37.0)\n",
      "Requirement already satisfied: google-pasta~=0.2 in c:\\users\\方堃\\appdata\\local\\programs\\python\\python39\\lib\\site-packages (from tensorflow==2.5.0->spleeter) (0.2.0)\n",
      "Requirement already satisfied: wrapt~=1.12.1 in c:\\users\\方堃\\appdata\\local\\programs\\python\\python39\\lib\\site-packages (from tensorflow==2.5.0->spleeter) (1.12.1)\n",
      "Requirement already satisfied: tensorflow-estimator<2.6.0,>=2.5.0rc0 in c:\\users\\方堃\\appdata\\local\\programs\\python\\python39\\lib\\site-packages (from tensorflow==2.5.0->spleeter) (2.5.0)\n",
      "Requirement already satisfied: keras-nightly~=2.5.0.dev in c:\\users\\方堃\\appdata\\local\\programs\\python\\python39\\lib\\site-packages (from tensorflow==2.5.0->spleeter) (2.5.0.dev2021032900)\n",
      "Requirement already satisfied: flatbuffers~=1.12.0 in c:\\users\\方堃\\appdata\\local\\programs\\python\\python39\\lib\\site-packages (from tensorflow==2.5.0->spleeter) (1.12)\n",
      "Requirement already satisfied: absl-py~=0.10 in c:\\users\\方堃\\appdata\\local\\programs\\python\\python39\\lib\\site-packages (from tensorflow==2.5.0->spleeter) (0.15.0)\n",
      "Requirement already satisfied: protobuf>=3.9.2 in c:\\users\\方堃\\appdata\\local\\programs\\python\\python39\\lib\\site-packages (from tensorflow==2.5.0->spleeter) (3.19.1)\n",
      "Requirement already satisfied: opt-einsum~=3.3.0 in c:\\users\\方堃\\appdata\\local\\programs\\python\\python39\\lib\\site-packages (from tensorflow==2.5.0->spleeter) (3.3.0)\n",
      "Requirement already satisfied: gast==0.4.0 in c:\\users\\方堃\\appdata\\local\\programs\\python\\python39\\lib\\site-packages (from tensorflow==2.5.0->spleeter) (0.4.0)\n",
      "Requirement already satisfied: grpcio~=1.34.0 in c:\\users\\方堃\\appdata\\local\\programs\\python\\python39\\lib\\site-packages (from tensorflow==2.5.0->spleeter) (1.34.1)\n",
      "Requirement already satisfied: keras-preprocessing~=1.1.2 in c:\\users\\方堃\\appdata\\local\\programs\\python\\python39\\lib\\site-packages (from tensorflow==2.5.0->spleeter) (1.1.2)\n",
      "Requirement already satisfied: typing-extensions~=3.7.4 in c:\\users\\方堃\\appdata\\local\\programs\\python\\python39\\lib\\site-packages (from tensorflow==2.5.0->spleeter) (3.7.4.3)\n",
      "Requirement already satisfied: termcolor~=1.1.0 in c:\\users\\方堃\\appdata\\local\\programs\\python\\python39\\lib\\site-packages (from tensorflow==2.5.0->spleeter) (1.1.0)\n",
      "Requirement already satisfied: six~=1.15.0 in c:\\users\\方堃\\appdata\\local\\programs\\python\\python39\\lib\\site-packages (from tensorflow==2.5.0->spleeter) (1.15.0)\n",
      "Requirement already satisfied: click<7.2.0,>=7.1.1 in c:\\users\\方堃\\appdata\\local\\programs\\python\\python39\\lib\\site-packages (from typer<0.4.0,>=0.3.2->spleeter) (7.1.2)\n",
      "Requirement already satisfied: future in c:\\users\\方堃\\appdata\\local\\programs\\python\\python39\\lib\\site-packages (from ffmpeg-python==0.2.0->spleeter) (0.18.2)\n",
      "Requirement already satisfied: sniffio in c:\\users\\方堃\\appdata\\local\\programs\\python\\python39\\lib\\site-packages (from httpx[http2]<0.20.0,>=0.19.0->spleeter) (1.2.0)\n",
      "Requirement already satisfied: charset-normalizer in c:\\users\\方堃\\appdata\\local\\programs\\python\\python39\\lib\\site-packages (from httpx[http2]<0.20.0,>=0.19.0->spleeter) (2.0.8)\n",
      "Requirement already satisfied: rfc3986[idna2008]<2,>=1.3 in c:\\users\\方堃\\appdata\\local\\programs\\python\\python39\\lib\\site-packages (from httpx[http2]<0.20.0,>=0.19.0->spleeter) (1.5.0)\n",
      "Requirement already satisfied: certifi in c:\\users\\方堃\\appdata\\local\\programs\\python\\python39\\lib\\site-packages (from httpx[http2]<0.20.0,>=0.19.0->spleeter) (2020.12.5)\n",
      "Requirement already satisfied: httpcore<0.14.0,>=0.13.3 in c:\\users\\方堃\\appdata\\local\\programs\\python\\python39\\lib\\site-packages (from httpx[http2]<0.20.0,>=0.19.0->spleeter) (0.13.7)\n",
      "Requirement already satisfied: h2<5,>=3; extra == \"http2\" in c:\\users\\方堃\\appdata\\local\\programs\\python\\python39\\lib\\site-packages (from httpx[http2]<0.20.0,>=0.19.0->spleeter) (4.1.0)\n",
      "Requirement already satisfied: pytz>=2017.3 in c:\\users\\方堃\\appdata\\local\\programs\\python\\python39\\lib\\site-packages (from pandas<2.0.0,>=1.1.2->spleeter) (2021.1)\n",
      "Requirement already satisfied: python-dateutil>=2.7.3 in c:\\users\\方堃\\appdata\\local\\programs\\python\\python39\\lib\\site-packages (from pandas<2.0.0,>=1.1.2->spleeter) (2.8.1)\n",
      "Requirement already satisfied: scipy in c:\\users\\方堃\\appdata\\local\\programs\\python\\python39\\lib\\site-packages (from norbert==0.2.1->spleeter) (1.7.1)\n",
      "Requirement already satisfied: audioread>=2.0.0 in c:\\users\\方堃\\appdata\\local\\programs\\python\\python39\\lib\\site-packages (from librosa==0.8.0->spleeter) (2.1.9)\n",
      "Requirement already satisfied: numba>=0.43.0 in c:\\users\\方堃\\appdata\\local\\programs\\python\\python39\\lib\\site-packages (from librosa==0.8.0->spleeter) (0.54.1)\n",
      "Requirement already satisfied: decorator>=3.0.0 in c:\\users\\方堃\\appdata\\local\\programs\\python\\python39\\lib\\site-packages (from librosa==0.8.0->spleeter) (4.4.2)\n",
      "Requirement already satisfied: scikit-learn!=0.19.0,>=0.14.0 in c:\\users\\方堃\\appdata\\local\\programs\\python\\python39\\lib\\site-packages (from librosa==0.8.0->spleeter) (0.24.2)\n",
      "Requirement already satisfied: soundfile>=0.9.0 in c:\\users\\方堃\\appdata\\local\\programs\\python\\python39\\lib\\site-packages (from librosa==0.8.0->spleeter) (0.10.3.post1)\n",
      "Requirement already satisfied: resampy>=0.2.2 in c:\\users\\方堃\\appdata\\local\\programs\\python\\python39\\lib\\site-packages (from librosa==0.8.0->spleeter) (0.2.2)\n",
      "Requirement already satisfied: pooch>=1.0 in c:\\users\\方堃\\appdata\\local\\programs\\python\\python39\\lib\\site-packages (from librosa==0.8.0->spleeter) (1.5.2)\n",
      "Requirement already satisfied: joblib>=0.14 in c:\\users\\方堃\\appdata\\local\\programs\\python\\python39\\lib\\site-packages (from librosa==0.8.0->spleeter) (1.0.1)\n",
      "Requirement already satisfied: werkzeug>=0.11.15 in c:\\users\\方堃\\appdata\\local\\programs\\python\\python39\\lib\\site-packages (from tensorboard~=2.5->tensorflow==2.5.0->spleeter) (2.0.2)\n",
      "Requirement already satisfied: google-auth-oauthlib<0.5,>=0.4.1 in c:\\users\\方堃\\appdata\\local\\programs\\python\\python39\\lib\\site-packages (from tensorboard~=2.5->tensorflow==2.5.0->spleeter) (0.4.6)\n",
      "Requirement already satisfied: tensorboard-plugin-wit>=1.6.0 in c:\\users\\方堃\\appdata\\local\\programs\\python\\python39\\lib\\site-packages (from tensorboard~=2.5->tensorflow==2.5.0->spleeter) (1.8.0)\n",
      "Requirement already satisfied: tensorboard-data-server<0.7.0,>=0.6.0 in c:\\users\\方堃\\appdata\\local\\programs\\python\\python39\\lib\\site-packages (from tensorboard~=2.5->tensorflow==2.5.0->spleeter) (0.6.1)\n",
      "Requirement already satisfied: google-auth<3,>=1.6.3 in c:\\users\\方堃\\appdata\\local\\programs\\python\\python39\\lib\\site-packages (from tensorboard~=2.5->tensorflow==2.5.0->spleeter) (2.3.3)\n",
      "Requirement already satisfied: markdown>=2.6.8 in c:\\users\\方堃\\appdata\\local\\programs\\python\\python39\\lib\\site-packages (from tensorboard~=2.5->tensorflow==2.5.0->spleeter) (3.3.6)\n",
      "Requirement already satisfied: setuptools>=41.0.0 in c:\\users\\方堃\\appdata\\local\\programs\\python\\python39\\lib\\site-packages (from tensorboard~=2.5->tensorflow==2.5.0->spleeter) (49.2.1)\n",
      "Requirement already satisfied: requests<3,>=2.21.0 in c:\\users\\方堃\\appdata\\local\\programs\\python\\python39\\lib\\site-packages (from tensorboard~=2.5->tensorflow==2.5.0->spleeter) (2.25.1)\n",
      "Requirement already satisfied: idna; extra == \"idna2008\" in c:\\users\\方堃\\appdata\\local\\programs\\python\\python39\\lib\\site-packages (from rfc3986[idna2008]<2,>=1.3->httpx[http2]<0.20.0,>=0.19.0->spleeter) (2.10)\n",
      "Requirement already satisfied: h11<0.13,>=0.11 in c:\\users\\方堃\\appdata\\local\\programs\\python\\python39\\lib\\site-packages (from httpcore<0.14.0,>=0.13.3->httpx[http2]<0.20.0,>=0.19.0->spleeter) (0.12.0)\n",
      "Requirement already satisfied: anyio==3.* in c:\\users\\方堃\\appdata\\local\\programs\\python\\python39\\lib\\site-packages (from httpcore<0.14.0,>=0.13.3->httpx[http2]<0.20.0,>=0.19.0->spleeter) (3.4.0)\n",
      "Requirement already satisfied: hyperframe<7,>=6.0 in c:\\users\\方堃\\appdata\\local\\programs\\python\\python39\\lib\\site-packages (from h2<5,>=3; extra == \"http2\"->httpx[http2]<0.20.0,>=0.19.0->spleeter) (6.0.1)\n",
      "Requirement already satisfied: hpack<5,>=4.0 in c:\\users\\方堃\\appdata\\local\\programs\\python\\python39\\lib\\site-packages (from h2<5,>=3; extra == \"http2\"->httpx[http2]<0.20.0,>=0.19.0->spleeter) (4.0.0)\n",
      "Requirement already satisfied: threadpoolctl>=2.0.0 in c:\\users\\方堃\\appdata\\local\\programs\\python\\python39\\lib\\site-packages (from scikit-learn!=0.19.0,>=0.14.0->librosa==0.8.0->spleeter) (2.2.0)\n",
      "Requirement already satisfied: cffi>=1.0 in c:\\users\\方堃\\appdata\\local\\programs\\python\\python39\\lib\\site-packages (from soundfile>=0.9.0->librosa==0.8.0->spleeter) (1.14.4)\n",
      "Requirement already satisfied: appdirs in c:\\users\\方堃\\appdata\\local\\programs\\python\\python39\\lib\\site-packages (from pooch>=1.0->librosa==0.8.0->spleeter) (1.4.4)\n",
      "Requirement already satisfied: packaging in c:\\users\\方堃\\appdata\\local\\programs\\python\\python39\\lib\\site-packages (from pooch>=1.0->librosa==0.8.0->spleeter) (20.8)\n",
      "Requirement already satisfied: requests-oauthlib>=0.7.0 in c:\\users\\方堃\\appdata\\local\\programs\\python\\python39\\lib\\site-packages (from google-auth-oauthlib<0.5,>=0.4.1->tensorboard~=2.5->tensorflow==2.5.0->spleeter) (1.3.0)\n",
      "Requirement already satisfied: cachetools<5.0,>=2.0.0 in c:\\users\\方堃\\appdata\\local\\programs\\python\\python39\\lib\\site-packages (from google-auth<3,>=1.6.3->tensorboard~=2.5->tensorflow==2.5.0->spleeter) (4.2.4)\n",
      "Requirement already satisfied: pyasn1-modules>=0.2.1 in c:\\users\\方堃\\appdata\\local\\programs\\python\\python39\\lib\\site-packages (from google-auth<3,>=1.6.3->tensorboard~=2.5->tensorflow==2.5.0->spleeter) (0.2.8)\n",
      "Requirement already satisfied: rsa<5,>=3.1.4; python_version >= \"3.6\" in c:\\users\\方堃\\appdata\\local\\programs\\python\\python39\\lib\\site-packages (from google-auth<3,>=1.6.3->tensorboard~=2.5->tensorflow==2.5.0->spleeter) (4.7.2)\n",
      "Requirement already satisfied: importlib-metadata>=4.4; python_version < \"3.10\" in c:\\users\\方堃\\appdata\\local\\programs\\python\\python39\\lib\\site-packages (from markdown>=2.6.8->tensorboard~=2.5->tensorflow==2.5.0->spleeter) (4.8.2)\n",
      "Requirement already satisfied: urllib3<1.27,>=1.21.1 in c:\\users\\方堃\\appdata\\local\\programs\\python\\python39\\lib\\site-packages (from requests<3,>=2.21.0->tensorboard~=2.5->tensorflow==2.5.0->spleeter) (1.26.4)\n",
      "Requirement already satisfied: chardet<5,>=3.0.2 in c:\\users\\方堃\\appdata\\local\\programs\\python\\python39\\lib\\site-packages (from requests<3,>=2.21.0->tensorboard~=2.5->tensorflow==2.5.0->spleeter) (4.0.0)\n",
      "Requirement already satisfied: pycparser in c:\\users\\方堃\\appdata\\local\\programs\\python\\python39\\lib\\site-packages (from cffi>=1.0->soundfile>=0.9.0->librosa==0.8.0->spleeter) (2.20)\n",
      "Requirement already satisfied: pyparsing>=2.0.2 in c:\\users\\方堃\\appdata\\local\\programs\\python\\python39\\lib\\site-packages (from packaging->pooch>=1.0->librosa==0.8.0->spleeter) (2.4.7)\n",
      "Requirement already satisfied: oauthlib>=3.0.0 in c:\\users\\方堃\\appdata\\local\\programs\\python\\python39\\lib\\site-packages (from requests-oauthlib>=0.7.0->google-auth-oauthlib<0.5,>=0.4.1->tensorboard~=2.5->tensorflow==2.5.0->spleeter) (3.1.1)\n",
      "Requirement already satisfied: pyasn1<0.5.0,>=0.4.6 in c:\\users\\方堃\\appdata\\local\\programs\\python\\python39\\lib\\site-packages (from pyasn1-modules>=0.2.1->google-auth<3,>=1.6.3->tensorboard~=2.5->tensorflow==2.5.0->spleeter) (0.4.8)\n",
      "Requirement already satisfied: zipp>=0.5 in c:\\users\\方堃\\appdata\\local\\programs\\python\\python39\\lib\\site-packages (from importlib-metadata>=4.4; python_version < \"3.10\"->markdown>=2.6.8->tensorboard~=2.5->tensorflow==2.5.0->spleeter) (3.6.0)\n"
     ]
    }
   ],
   "source": [
    "pip install spleeter"
   ]
  },
  {
   "cell_type": "code",
   "execution_count": 2,
   "id": "robust-deposit",
   "metadata": {},
   "outputs": [],
   "source": [
    "from IPython.display import Audio\n",
    "import os"
   ]
  },
  {
   "cell_type": "code",
   "execution_count": 10,
   "id": "insured-collective",
   "metadata": {},
   "outputs": [],
   "source": [
    "name_list = ['123我爱你 - 新乐尘符', '123木头人 - 黑涩会美眉', '9420 - 麦小兜', 'Dear Friend - 顺子', 'I Believe - 范逸臣', 'Lovelovelove - 蔡依林', '一万个对不起 - 祁隆', '一万个理由 - 郑源', '一万个舍不得 - 庄心妍', '一个人失忆 - 薛凯琪', '一个人的北京 - 好妹妹乐队', '一个人的天荒地老 - 张宇', '一个人的寂寞两个人的错 - 贺一航', '一个人的精彩 - 萧亚轩', '一个人走 - 刘佳', '一亿个伤心 - 蒙面哥', '一剪梅 - 费玉清', '一剪梅 DJ费玉清 - DJ费玉清', '一千年以后 - 林俊杰', '一千零一夜 - 邰正宵', '一吻之间 - 张碧晨', '一场游戏一场梦 - 王杰', '一壶老酒 - 陆树铭', '一天一点爱恋 - 梁朝伟', '一天到晚游泳的鱼 - 张雨生', '一帘幽梦 - 邓丽君', '一曲红尘 - 郭少杰', '一百个放心 - 张津涤', '一直很安静 - 阿桑', '一眼万年 - S.H.E', '一瞬间 - 丽江小倩', '一袖云 - 刘珂矣', '一路向北 - 冷漠', '丁香花 - 唐磊', '七里香 - 刘瑞琦', '三十出头 - 大哲', '三寸天堂 - 严艺丹', '三寸日光 - 梁静茹', '三生三世十里桃花 - 那英', '三生石上一滴泪 - 望海高歌', '下一次相遇 - 雨露', '下定决心忘记你 - 大哲', '下沙 - 游鸿明', '下辈子不做女人【新版】 - 陈瑞', '下辈子如果我还记得你 - 马郁', '下雨了 - 薛之谦', '下雨天 - 南拳妈妈', '下马酒之歌 - 乌兰图雅', '不仅仅是喜欢 - 孙语赛 萧全', '不再联系 - 夏天', '不再见 - 陈学冬', '不分手的恋爱 - 汪苏泷', '不变的情缘 - 正云', '不后悔遇到你 - 弹唱小蓉', '不将就 - 李荣浩', '不愿红尘错过你 - 吴易航', '不是因为寂寞才想你 - T.R.Y', '不是我不小心 - 张镐哲', '不爱我放了我 - 许茹芸', '不白活一回 - 毛阿敏', '不管有多苦 - 那英', '不老梦 - 银临', '不能说的秘密 - 周杰伦', '不能这样活 - 刘欢', '不要再来伤害我 - 张振宇', '不要在我寂寞的时候说爱我 - 郑源', '不要在我的伤口撒盐 - 庄心妍', '不要说话 - 陈奕迅', '不让我的眼泪陪我过夜 - 齐秦', '不醉不会 - 田馥甄', '丑八怪 - 薛之谦', '世界末日 - 周杰伦', '东方之珠 - 罗大佑', '东风志 - Aki阿杰', '东风破 - 周杰伦', '丢了幸福的猪 - 姜玉阳', '两只蝴蝶 - 庞龙', '中华民谣 - 孙浩', '为了谁 - 祖海', '为什么相爱的人不能在一起 - 郑源', '为你写诗 - 吴克群', '为你我受冷风吹 - 林忆莲', '为你等待 - 次仁央宗', '为你而痛 - 岳思思', '为爱付出 - 庄妮', '为爱痴狂 - 刘若英', '九九女儿红 - 陈少华', '九张机 - 叶炫清', '九百九十九朵玫瑰 - 邰正宵', '二十岁的某一天 - 花粥', '云在飞 - 云飞', '亲亲我的宝贝 - 周华健', '亲密爱人 - 蔡琴', '亲爱的你怎么不在我身边 - 江美琪', '亲爱的小孩 - 苏芮', '亲爱的路人 - 刘若英', '人在旅途 - 云菲菲', '人生若只如初见 - 望海高歌', '人质 - 张惠妹', '人间 - 王菲', '今世有缘 - 云菲菲', '今夜你又在和谁约会 - 涓子', '今夜无眠 - 周冰倩', '今夜的你又在和谁约会 - 暴林', '今天 - 刘德华', '今生只为遇见你 - 波拉', '今生缘 - 川子', '从头再来 - 刘欢', '他一定很爱你 - 阿杜', '他还是不懂 - SHE', '以后别做朋友 - 周兴哲', '以后的以后 - 庄心妍', '会呼吸的痛 - 梁静茹', '会痛的石头 - 萧敬腾', '传奇 - 李健', '伤了心的女人怎么了 - 刘涛', '伤心1999 - 王杰', '伤心城市 - 云菲菲', '伤心太平洋 - 任贤齐', '半岛铁盒 - 周杰伦', '半情歌 - 元若蓝', '卓玛 - 亚东', '南山南 - 马頔', '南方姑娘 - 江智民', '卷珠帘 - 霍尊', '历史的天空 - 毛阿敏', '原来你也在这里 - 刘若英', '原来你什么都不要 - 张惠妹', '原谅 - 张玉华', '原谅我一次 - 欢子', '去大理 - 郝云', '发如雪 - 周杰伦', '受了点伤 - 阿桑', '只要你过得比我好 - 钟镇涛', '可乐 - 赵浴辰', '可以了 - 陈奕迅', '可念不可说 - 崔子格', '向天再借五百年 - 韩磊', '听海 - 张学友', '听说爱情回来过 - 杨宗纬', '吻和泪 - 周子寒', '味道 - 辛晓琪', '命运不是辘轳 - 李娜', '和你一样 - 李宇春', '咖喱咖喱 - 叶洛洛', '哥有老婆 - 纪晓斌', '哭砂 - 张惠妹', '唐人 - 孙子涵', '唯一 - 王力宏', '喜剧之王 - 李荣浩', '喜欢你 - 徐佳莹', '嘴巴嘟嘟 - 刘子璇', '囚鸟 - 彭羚', '四季歌 - 邓丽君', '回忆总想哭 - 姜玉阳 南宫嘉骏', '回忆那么伤 - 孙子涵', '回忆里的那个人 - 李行亮', '因为你爱上他 - 蒋雪儿', '因为爱所以爱 - 谢霆锋', '心要让你听见 - 邰正宵', '心酸 - 林宥嘉', '忘不了 - 童安格', '忘情水 - 刘德华', '忘记时间 - 胡歌', '忽然之间 - 莫文蔚', '忽然好想念 - 唐古', '怀念青春 - 刘刚', '怎么唱情歌 - 刘惜君', '思念天边的你 - 谢世超', '思念无期 - 望海高歌', '思慕 - 郁可唯', '恋人心 - 魏新雨', '恋曲1990 - 罗大佑', '恋爱ing - 五月天', '恰似你的温柔 - 蔡琴', '悟 - 刘德华', '情人 - 刀郎', '情人鹤顶红 - 叶贝文', '情歌 - 梁静茹', '情毒 - 囚鸟', '情深深雨蒙蒙 - 赵薇', '情花 - 本兮', '情锁 - 陈星', '惜别的海岸 - 龙飘飘', '想你想到心里头 - 杨浩龙', '想你的夜 - 关喆', '想你零点零一分 - 张靓颖', '想和你去吹吹风 - 张学友', '想太多 - 李玖哲', '想念妈妈 - 天堂飘雪', '想着你亲爱的 - 陈美惠', '想着你的好 - 祁隆', '想自由 - 林宥嘉', '愁啊愁 - 迟志强', '感动天感动地 - 宇桐非', '感恩的心 - 欧阳菲菲', '愿做菩萨那朵莲 - 路勇', '愿得一人心 - 李行亮', '成全 - 刘若英', '成都 - 民谣 赵雷', '我 - 蔡依林', '我不后悔 - 郑源', '我不恨你 - 郑源', '我不想说 - 杨钰莹', '我不愿让你一个人 - 五月天', '我以为 - 品冠', '我们不一样 - 大壮', '我们俩 - 郭顶', '我们的明天【重返20岁】 - 鹿晗', '我们的歌 - 王力宏', '我们的爱 - 飞儿乐团', '我们说好的 - 张靓颖', '我们都是好孩子 - 王筝', '我会好好的 - 王心凌', '我只在乎你 - 邓丽君', '我在前世约了你 - 唐古', '我多喜欢你，你会知道 - 王俊琪', '我好想你 - 苏打绿', '我害怕 - 薛之谦', '我很快乐 - 刘惜君', '我总是一个人在练习一个人 - 林宥嘉', '我想我不会爱你 - 田馥甄', '我想我不够好 - 单色凌', '我愿意 - 王菲', '我是一只鱼 - 任贤齐', '我是真的爱上你 - 王杰', '我是真的真的很爱你 - 言承旭', '我曾用心爱着你 - 潘美辰', '我最亲爱的 - 张惠妹', '我爱洗澡 - 范晓萱', '我爱的人 - 陈小春', '我的中国心 - 张明敏', '我的唇吻不到我爱的人 - 王奕心', '我的好兄弟 - 小沈阳', '我的好妈妈 - 儿歌', '我的心好冷 - Sara', '我的快乐就是想你 - 陈雅森', '我的情深若你懂 - 王建荣', '我的楼兰 - 云朵', '我的歌声里 - 曲婉婷', '我要抱着你 - 庞龙', '我要的飞翔 - 许飞', '我走以后 - 张靓颖', '我还想她 - 林俊杰', '我这个你不爱的人 - 迪克牛仔', '戒烟 - 李荣浩', '手掌心 - 丁当', '找一个字代替 - 邰正宵', '把悲伤留给自己 - 陈升', '把酒倒满 - 李晓杰', '抹去泪水 - 韩宝仪', '拉住妈妈的手 - 刘和刚', '掌声响起来 - 毛阿敏', '搁浅 - 周杰伦', '摘下满天星 - 郑少秋', '撕夜 - 阿杜', '擦肩而过 - 郑源', '放不下的情缘 - 勾辉', '放手去爱 - 迪克牛仔', '放生 - 范逸臣', '放过 - 崔天琪', '故乡 - 许巍', '故乡的云 - 费翔', '数到五答应我 - 曹格', '斑马斑马 - 张婧懿', '新不了情 - 万芳', '新女人花 - 陈瑞', '新贵妃醉酒 - 李玉刚', '旅行 - 许巍', '旅行的意义 - 陈绮贞', '旋木 - 王菲', '无奈的思绪 - 韩宝仪', '无情的世界无情的你 - 冷漠', '无所谓 - 杨坤', '无条件 - 陈奕迅', '日不落 - 蔡依林', '时间煮雨 - 郁可唯', '明天你是否依然爱我 - 童安格', '明天过后 - 张杰', '明明就 - 周杰伦', '明月千里寄相思 - 徐小凤', '明月天涯 - 五音Jw', '易燃易爆炸 - 陈粒', '星座书上 - 许嵩', '星月情缘 - 安东阳', '星月神话 - 金莎', '星语心愿 - 任贤齐', '春夏秋冬的你 - 王宇良', '春天的故事 - 董文华', '春天里 - 汪峰', '春泥 - 庾澄庆', '春风十里 - 鹿先森乐队', '昨夜星辰 - 高胜美', '是否我真的一无所有 - 王杰', '是非题 - 范玮琪', '晚秋 - 毛宁', '晴天 - 周杰伦', '暖心 - 风语', '暖暖 - 梁静茹', '曲终人散 - 张宇', '曹操 - 林俊杰', '曾经心痛 - 卓依婷', '曾经是我最爱的人 - 陈瑞', '曾经最美 - 朱铭捷', '曾经爱过你 - 郑源', '曾经的你 - 许巍', '最初的梦想 - 范玮琪', '最初的记忆 - 徐佳莹', '最后一个情人 - 赵真', '最后一首情歌 - 苏琛', '最幸福的人 - 曾春年', '最浪漫的事 - 赵咏华', '最熟悉的陌生人 - 萧亚轩', '最真的梦 - 孙露', '最美情侣 - 白小白', '最美的光 - 尚琪祺', '最美的太阳 - 张杰', '最美的情缘 - 魏新雨', '最远的你是我最近的爱 - 金悦', '最重要的决定 - 范玮琪', '最长的电影 - 周杰伦', '月亮代表我的心 - 张国荣', '月亮惹的祸 - 张宇', '月半小夜曲 - 陈慧娴', '月半弯 - 陈坤', '月满西楼 - 安雯', '月牙湾 - F.I.R', '有一种爱叫做放手 - 阿木', '有何不可 - 许嵩', '有没有一种思念永不疲惫 - 许强', '有没有人告诉你 - 陈楚生', '朋友 - 周华健', '朋友别哭 - 吕方', '朋友名义 - 六哲', '朋友的酒 - 李晓杰', '望星空 - 董文华', '末班车 - 萧煌奇', '杀猪刀 - 杨浩龙', '枕着你的名字入眠 - 陈明', '柠檬草的味道 - 蔡依林', '桃花运 - 杨钰莹', '梅花三弄 - 卓依婷', '梅花泪 - 云菲菲', '梦醒了 - 那英', '梦醒时分 - 陈淑桦', '梦里想你多少回 - 雨露', '梨花又开放 - 邱诗晗', '棉花糖 - 至上励合', '樱花草 - Sweety', '歌在飞 - 申菲', '死心塌地去爱你 - 门丽', '殇雪 - 云菲菲', '残酷月光 - 林宥嘉', '比心更痛的眼眸 - 郑源', '氧气 - 范晓萱', '水墨雪 - 陈瑞', '水手 - 郑智化', '水星记 - 郭顶', '永远是朋友 - 卓依婷', '没了心的爱 - 任盈盈', '没有什么不同 - 曲婉婷', '没有你陪伴我真的好孤单 - 梦然', '泪桥 - 伍佰', '泪海 - 许茹芸', '泼茶香 - 刘珂矣', '洋葱 - 杨宗纬', '流年 - 王菲', '流星雨 - F4', '流浪歌 - 卓依婷', '流着泪说分手 - 金志文', '浪人情歌 - 伍佰', '浪花一朵朵 - 任贤齐', '浪费 - 林宥嘉', '海浪 - 黄品源', '海芋恋 - 萧敬腾', '消愁 - 毛不易', '淋雨一直走 - 张韵涵', '清明雨上 - 许嵩', '渴望 - 毛阿敏', '滚滚红尘 - 陈淑桦', '滴答 - 侃侃', '潇洒的走 - 高胜美', '潮湿的心 - 卓依婷', '火烧的寂寞 - 信', '火苗 - 格格', '灰姑娘 - 郑钧', '烛光里的妈妈 - 毛阿敏', '爱 - 莫文蔚', '爱一点 - 莫艳琳', '爱不爱我 - 零点乐队', '爱与哀愁 - 童安格', '爱久见人心 - 梁静茹', '爱似水仙 - 金海心', '爱你一万年 - 韩宝仪', '爱你十分泪七分 - 裘海正', '爱你没错 - 张信哲', '爱你那么多 - 陈瑞', '爱到尽头也无悔 - 梦然', '爱到深处全是泪 - 雨中百合', '爱囚 - 庄心妍', '爱在西元前 - 周杰伦', '爱如潮水 - 张信哲', '爱如空气 - 孙俪', '爱就一个字 - 张信哲', '爱情转移 - 陈奕迅', '爱情这杯酒谁喝都得醉 - 闫旭', '爱情错觉 - 王娅', '爱我的人和我爱的人 - 游鸿明', '爱我还是他 - 陶喆', '爱的世界只有你 - 祁隆', '爱的代价 - 张艾嘉', '爱的天国 - 王心凌', '爱的奉献 - 韦唯', '爱的路上只有我和你 - 任贤齐', '爱的魔法 - 金莎', '爱笑的眼睛 - 林俊杰', '爱要怎么说出口 - 林俊杰', '父亲 - 筷子兄弟', '父亲写的散文诗 - 李健', '父亲的草原母亲的河 - 云飞', '爸爸妈妈 - 王蓉', '牧羊曲 - 龚玥', '牵丝戏 - Aki阿杰', '牵挂你的人是我 - 高林生', '狂浪生 - 李宗南', '狐狸 - 薛之谦', '独家记忆 - 陈小春', '独角戏 - 许茹芸', '狮子座 - 曾轶可', '献给妈妈的歌 - 德乾旺姆', '王妃 - 萧敬腾', '玫瑰花的葬礼 - 许嵩', '珊瑚颂 - 卓依婷', '甘心情愿 - 郭峰', '甜甜的 - 周杰伦', '甜蜜蜜 - 邓丽君', '生如夏花 - 朴树', '生日礼物 - 江涛', '生生 - 林俊杰', '用心良苦 - 张宇', '电台情歌 - 莫文蔚', '男人的好 - 张宇', '男孩 - 梁博', '画颜 - 魏新雨', '留什么给你 - 孙楠', '疑心病 - 任然', '痒 - 黄龄', '痴心绝对 - 李圣杰', '白桦林 - 朴树', '白色恋人 - 游鸿明', '白龙马 - 儿童歌曲', '百万个吻 - 陈明真', '盛夏 - 毛不易', '盛夏的果实 - 莫文蔚', '相思河 - 风语', '相思渡口 - 祁隆', '相思的债 - 陈瑞', '相逢是首歌 - 俞静', '眉间雪 - 晴愔', '看得最远的地方 - 张韶涵', '看月亮爬上来 - 张杰', '看透爱情看透你 - 冷漠', '真爱你的云 - 黄国俊', '着魔 - 张杰', '知道不知道 - 邓丽君', '短发 - 梁咏琪', '祈祷 - 卓依婷', '祖国祖国我们爱你 - 儿歌', '祝你平安 - 孙悦', '祝我生日快乐 - 温岚', '神奇的九寨 - 容中尔甲', '离人愁 - 李袁杰', '离别 - 阿杜', '离别的秋天 - 孙露', '秋叶黄了想爹娘 - 赵真', '秋天不回来 - 王强', '秋风落叶 - 姜玉阳', '移情别恋 - 郭峰', '空城 - 杨坤', '突然好想你 - 五月天', '突然想起你 - 林宥嘉', '站在草原望北京 - 乌兰图雅', '童年 - 罗大佑', '童话镇 - 许娜', '笑忘书 - 李荣浩', '笑红尘 - 陈淑桦', '笑脸 - 谢东', '笔记 - 周笔畅', '笨小孩 - 刘德华  吴宗宪  柯受良', '第一次 - 光良', '第一次爱的人 - 王心凌', '第三者的第三者 - 弦子', '等不到的爱 - 文章', '等你的季节【步步惊心】 - 刘诗诗', '等你等了那么久 - 祁隆', '等我回家 - 薛之谦', '答应不爱你 - 郑中基', '简单爱 - 周杰伦', '算了 - 崔阿扎', '算什么男人 - 周杰伦', '篱笆墙的影子 - 毛阿敏', '类似爱情 - 萧亚轩', '粉红色的回忆 - 邓丽君', '精忠报国 - 屠洪纲', '繁花 - 董贞', '红尘客栈 - 周杰伦', '红尘情歌 - 高安', '红玫瑰 - 张碧晨', '红色高跟鞋 - 蔡健雅', '红豆 - 王菲', '红豆红 - 余静', '红颜旧 - 刘涛', '约定 - 周蕙', '练习 - 刘德华', '绅士 - 薛之谦', '绒花 - 李谷一', '给未来的自己 - 梁静茹', '绝口不提爱你 - 郑中基', '绿岛小夜曲 - 邓丽君', '缘 - 高胜美', '缘分五月 - 伍月', '罗曼蒂克的爱情 - 贺敬轩', '美丽心情 - 本多RuRu', '美丽的草原我的家 - 佚名女', '美人吟 - 李玲玉', '美酒加咖啡 - 邓丽君', '翅膀 - 林俊杰', '老妹你真美 - 韩东', '老婆你辛苦了 - 祁隆', '老父亲 - 祁隆', '老男孩 - 筷子组合', '肩上的云 - 王建荣', '胆小鬼 - 梁咏琪', '背叛 - 曹格', '背对背拥抱 - 林俊杰', '胡桃夹子 - 张碧晨', '自从有了你 - 赵薇', '自从离别后 - 赵薇', '至少还有你 - 林忆莲', '致青春 - 王菲', '舍不得忘记你 - 望海高歌', '舍得 - 王呈章', '芊芊 - 回音哥', '芙蓉雨 - 刘珂矣', '芦花 - 雷佳', '花太香 - 任贤齐', '花海 - 周杰伦', '花香 - 许绍洋', '苏州河 - 薛凯琪', '苦咖啡 - 汤潮', '草原上升起不落的太阳 - 蒋大为', '莉莉安 - 宋冬野', '菊花台 - 周杰伦', '菩提偈 - 刘惜君', '萍聚 - 卓依婷', '葫芦娃 - 儿童歌曲', '蒲公英的约定 - 周杰伦', '蓝精灵 - 儿童歌曲', '蓝莲花 - 许巍', '藕断丝连 - 陈瑞', '虫儿飞 - 童声', '虹之间 - 金贵晟', '血染的风采 - 董文华', '被伤过的心还可以爱谁 - 六哲', '西海情歌 - 降央卓玛', '认错 - 许嵩', '让她降落 - 何璐', '让我留在你身边 - 唐汉霄', '记事本 - 陈慧琳', '记得 - 林俊杰', '许多年以后 - 赵鑫', '该死的懦弱 - 胜屿', '说了再见 - 周杰伦', '说句心里话 - 阎维文', '说好了不见面 - 小贱', '说好的幸福呢 - 周杰伦', '说散就散 - 袁娅维', '说爱我 - 梁一贞', '说谎 - 林宥嘉', '请不要对我说SORRY - 何洁', '诺言 - 李翊君', '谁在意我留下的泪 - 蒋雪儿', '谁料皇榜中状元 - 卓依婷', '谁的眼泪在飞 - 孟庭苇', '谢谢你的爱 - 刘德华', '谢谢你的爱1999 - 谢霆锋', '豆浆油条 - 林俊杰', '贝加尔湖畔 - 李健', '走江南 - 亦心Elissa', '走过咖啡屋 - 卓依婷', '趁早 - 张宇', '越过山丘 - 杨宗纬', '路口 - 张震岳', '路边的野花不要采 - 邓丽君', '踏浪 - 卓依婷', '车站 - 曹磊', '轻轻的告诉你 - 杨钰莹', '过云雨 - 张敬轩', '过客 - 阿涵', '过火 - 张信哲', '还有我 - 任贤齐', '这一生回忆有你就足够 - 关泽楠', '远在北方孤独的鬼 - 花粥', '远走高飞 - 金志文', '迟来的爱 - 卓依婷', '追梦人 - 阿木', '追梦赤子心 - Gala', '追求 - 卓依婷', '退 - 蒋蒋', '逃 - 侯旭', '逆战 - 张杰', '逍遥叹 - 胡歌', '逝去的爱 - 李安', '遇 - Ai Mini', '遇到 - 方雅贤', '遗憾 - 方炯镔', '遥远的歌 - 刘惜君', '那个人 - 周延英', '那些你很冒险的梦 - 林俊杰', '那些年 - 胡夏', '那女孩对我说 - 黄义达', '那年的情书 - 江美琪', '都怪我 - 刘德华', '都选c - 大鹏', '酒后更想你 - 倪尔萍', '酒干倘卖无 - 孙露', '酒醉的探戈2001 - 动力火车', '醉相思 - 祁隆', '重生 - 容祖儿', '野子 - 苏运莹', '野孩子 - 杨千嬅', '野百合也有春天 - 孟庭苇', '错过的情人 - 石梅', '长安忆 - 双笙', '长相依 - 卓依婷', '长长的路慢慢地走 - 陈瑞', '问 - 简弘亦', '闯天涯 - 司徒兰芳', '闯码头 - 大哲', '闹够了没有原版 - 赖伟锋', '阴天快乐 - 陈奕迅', '阿刁【消音版】 - 赵雷', '阿哥阿妹 - 谢军', '除了你 - 云菲菲', '陪你一起变老 - 唐古', '陪你一起看草原 - 乌兰托娅', '陪我看日出 - 蔡淳佳', '隐形的翅膀 - 张韶涵', '难道爱一个人有错吗 - 郑源', '雁南飞 - 关牧村', '雨一直下 - 张宇', '雨荷 - 雪晗', '雨蝶 - 李翊君', '雪人 - 范晓萱', '需要人陪 - 王力宏', '霜雪千年 - 洛天依', '青城山下白素贞 - 赵雅芝', '青春修炼手册 - Tfboys', '青花 - 周传雄', '青藏高原 - 李娜', '非你莫属 - 林依晨', '靠近一点点 - 梁心颐', '风含情水含笑 - 杨钰莹', '风吹麦浪 - 李健', '风往北吹 - 孙楠', '风铃 - 周蕙', '风雨无阻 - 周华健', '风飞沙 - 迪克牛仔', '飘摇 - 周迅', '飘雪 - 陈慧娴', '飞蛾扑火 - 彭丽丽', '香水 - 谢霆锋', '香水有毒 - 胡杨林', '香烟爱上火柴 - 张政', '驼铃 - 刀郎', '驿动的心 - 姜育恒', '高原红 - 容中尔甲', '高原蓝 - 乌兰托娅', '鬼迷心窍 - 李宗盛', '魔鬼中的天使 - 田馥甄', '鱼 - 姚贝娜', '鸿雁 - 呼斯楞', '黄昏 - 周传雄', '黄玫瑰 - 孙露', '黑白配 - 范玮琪', '黑色幽默 - 周杰伦', '默 - 那英', '龙卷风 - 周杰伦']"
   ]
  },
  {
   "cell_type": "code",
   "execution_count": 14,
   "id": "uniform-specialist",
   "metadata": {},
   "outputs": [
    {
     "name": "stdout",
     "output_type": "stream",
     "text": [
      "0\n"
     ]
    }
   ],
   "source": [
    "count = 0\n",
    "for root,dirs,files in os.walk(os.getcwd()):\n",
    "    for file in files:\n",
    "        #获取文件所属目录\n",
    "        #print(root)\n",
    "        #获取文件路径\n",
    "        #print(os.path.join(root,file))\n",
    "        #print(file)\n",
    "        if '.mp3' in file:\n",
    "            #print(file)\n",
    "            if file.replace('.mp3','') not in name_list:\n",
    "                count += 1\n",
    "                print(count, '  ', file)\n",
    "                #!spleeter separate -p spleeter:2stems -o spleeter_output \"{file}\"\n",
    "\n",
    "print(count)\n"
   ]
  },
  {
   "cell_type": "code",
   "execution_count": null,
   "id": "blind-number",
   "metadata": {},
   "outputs": [],
   "source": []
  }
 ],
 "metadata": {
  "kernelspec": {
   "display_name": "Python 3",
   "language": "python",
   "name": "python3"
  },
  "language_info": {
   "codemirror_mode": {
    "name": "ipython",
    "version": 3
   },
   "file_extension": ".py",
   "mimetype": "text/x-python",
   "name": "python",
   "nbconvert_exporter": "python",
   "pygments_lexer": "ipython3",
   "version": "3.9.1"
  }
 },
 "nbformat": 4,
 "nbformat_minor": 5
}
